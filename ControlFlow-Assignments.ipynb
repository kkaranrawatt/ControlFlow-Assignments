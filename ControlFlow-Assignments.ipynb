{
 "cells": [
  {
   "cell_type": "code",
   "execution_count": 1,
   "id": "8042c6eb",
   "metadata": {},
   "outputs": [
    {
     "name": "stdout",
     "output_type": "stream",
     "text": [
      "Enter a number to check:2\n",
      "The number is positive\n"
     ]
    }
   ],
   "source": [
    "a=int(input('Enter a number to check:'))\n",
    "if a>=0:\n",
    "    print('The number is positive')\n",
    "else:\n",
    "    print('The number is negative')"
   ]
  },
  {
   "cell_type": "code",
   "execution_count": 2,
   "id": "f72ec9d9",
   "metadata": {},
   "outputs": [
    {
     "name": "stdout",
     "output_type": "stream",
     "text": [
      "Enter the age: 14\n",
      "The person is not eligible for the vote\n"
     ]
    }
   ],
   "source": [
    "age=int(input('Enter the age: '))\n",
    "if age>=18:\n",
    "    print('The person is eligible for the vote')\n",
    "else:\n",
    "    print('The person is not eligible for the vote')"
   ]
  },
  {
   "cell_type": "code",
   "execution_count": 3,
   "id": "faedfe0f",
   "metadata": {},
   "outputs": [
    {
     "name": "stdout",
     "output_type": "stream",
     "text": [
      "Maximum number is 5\n"
     ]
    }
   ],
   "source": [
    "a=5\n",
    "b=1\n",
    "if a>=b:\n",
    "    print('Maximum number is', a)\n",
    "else:\n",
    "    print('Maximum number is', b)"
   ]
  },
  {
   "cell_type": "code",
   "execution_count": 4,
   "id": "edcfd814",
   "metadata": {},
   "outputs": [
    {
     "name": "stdout",
     "output_type": "stream",
     "text": [
      "2024 is a leap year\n"
     ]
    }
   ],
   "source": [
    "year=2024\n",
    "if (year%4==0 and year%100!=0) or (year%400==0):\n",
    "    print(f'{year} is a leap year')\n",
    "else:\n",
    "    print(f\"{year} is not a leap year\")"
   ]
  },
  {
   "cell_type": "code",
   "execution_count": 5,
   "id": "1715a57a",
   "metadata": {},
   "outputs": [
    {
     "name": "stdout",
     "output_type": "stream",
     "text": [
      "Enter any character: k\n",
      "This is in consonant\n"
     ]
    }
   ],
   "source": [
    "character=input('Enter any character: ')\n",
    "vowels=['a','e','i','o','u','A','E','I','O','U']\n",
    "if character in vowels:\n",
    "    print('This is in vowels')\n",
    "else:\n",
    "    print('This is in consonant')"
   ]
  },
  {
   "cell_type": "code",
   "execution_count": 6,
   "id": "82647d4a",
   "metadata": {},
   "outputs": [
    {
     "name": "stdout",
     "output_type": "stream",
     "text": [
      "Enter a number:2\n",
      "The number is even\n"
     ]
    }
   ],
   "source": [
    "a=int(input('Enter a number:'))\n",
    "if a %2==0:\n",
    "    print('The number is even')\n",
    "else:\n",
    "    print('The number is odd')"
   ]
  },
  {
   "cell_type": "code",
   "execution_count": 7,
   "id": "9643ffb3",
   "metadata": {},
   "outputs": [
    {
     "name": "stdout",
     "output_type": "stream",
     "text": [
      "10\n",
      "20\n",
      "0\n"
     ]
    }
   ],
   "source": [
    "def absval(num):\n",
    "    if num>=0:\n",
    "        return num\n",
    "    else:\n",
    "        return -num\n",
    "print(absval(10))\n",
    "print(absval(-20))\n",
    "print(absval(0))"
   ]
  },
  {
   "cell_type": "code",
   "execution_count": 8,
   "id": "2c1fc6b3",
   "metadata": {},
   "outputs": [
    {
     "name": "stdout",
     "output_type": "stream",
     "text": [
      "The largest num is:  7\n"
     ]
    }
   ],
   "source": [
    "a=5\n",
    "b=7\n",
    "c=6\n",
    "if (a>b) and (a>c):\n",
    "    largest=a\n",
    "    print('The largest num is: ',largest)\n",
    "elif (b>a) and (b>c):\n",
    "    largest=b\n",
    "    print('The largest num is: ',largest)\n",
    "else:\n",
    "    largest=c\n",
    "    print('The largest num is: ',largest)"
   ]
  },
  {
   "cell_type": "code",
   "execution_count": 9,
   "id": "d382b7a8",
   "metadata": {},
   "outputs": [
    {
     "name": "stdout",
     "output_type": "stream",
     "text": [
      "Enter any word to check: y\n",
      "The given string is Palindrome\n"
     ]
    }
   ],
   "source": [
    "s=input('Enter any word to check: ')\n",
    "if s==s[::-1]:\n",
    "    print('The given string is Palindrome')\n",
    "else:\n",
    "    print('The given string is not Palindrome')"
   ]
  },
  {
   "cell_type": "code",
   "execution_count": 10,
   "id": "47273c3a",
   "metadata": {},
   "outputs": [
    {
     "name": "stdout",
     "output_type": "stream",
     "text": [
      "Grade is B\n"
     ]
    }
   ],
   "source": [
    "score=75\n",
    "if score>=90:\n",
    "    print('Grade is A+')\n",
    "elif score>=85:\n",
    "    print('Grade is A')\n",
    "elif score>=75:\n",
    "    print('Grade is B')\n",
    "elif score>=60:\n",
    "    print('Grade is C')\n",
    "elif score>=45:\n",
    "    print('Grade is D')\n",
    "else:\n",
    "    print('Grade is E')"
   ]
  },
  {
   "cell_type": "code",
   "execution_count": 11,
   "id": "3873e544",
   "metadata": {},
   "outputs": [
    {
     "name": "stdout",
     "output_type": "stream",
     "text": [
      "Enter a num: 52\n",
      "Enter a num: 12\n",
      "Enter a num: 14\n",
      "Greater num is:  52\n"
     ]
    }
   ],
   "source": [
    "a=int(input('Enter a num: '))\n",
    "b=int(input('Enter a num: '))\n",
    "c=int(input('Enter a num: '))\n",
    "if a>b:\n",
    "    if a>c:\n",
    "        g=a\n",
    "    else:\n",
    "        g=c\n",
    "else:\n",
    "    if b>c:\n",
    "        g=b\n",
    "    else:\n",
    "        g=c\n",
    "print('Greater num is: ',g)"
   ]
  },
  {
   "cell_type": "code",
   "execution_count": 12,
   "id": "16967e21",
   "metadata": {},
   "outputs": [
    {
     "name": "stdout",
     "output_type": "stream",
     "text": [
      "Enter a value: 4\n",
      "Enter a value: 5\n",
      "Enter a value: 6\n",
      "This is Scalene\n"
     ]
    }
   ],
   "source": [
    "x=int(input('Enter a value: '))\n",
    "y=int(input('Enter a value: '))\n",
    "z=int(input('Enter a value: '))\n",
    "\n",
    "if x==y==z:\n",
    "    print('This is Equilateral')\n",
    "elif x==y or y==z or z==x:\n",
    "    print('This is Isosceles')\n",
    "else:\n",
    "    print('This is Scalene')"
   ]
  },
  {
   "cell_type": "code",
   "execution_count": 13,
   "id": "a530482e",
   "metadata": {},
   "outputs": [
    {
     "name": "stdout",
     "output_type": "stream",
     "text": [
      "Enter a number 5\n",
      "This is positive number\n"
     ]
    }
   ],
   "source": [
    "num=int(input('Enter a number '))\n",
    "if num>0:\n",
    "    print('This is positive number')\n",
    "elif num==0:\n",
    "    print('The number is Zero')\n",
    "else:\n",
    "    print('This is negative number')"
   ]
  },
  {
   "cell_type": "code",
   "execution_count": 14,
   "id": "e4a3b586",
   "metadata": {},
   "outputs": [
    {
     "name": "stdout",
     "output_type": "stream",
     "text": [
      "Enter any age number 4\n",
      "You are a child\n"
     ]
    }
   ],
   "source": [
    "age=int(input('Enter any age number '))\n",
    "if age>19:\n",
    "    print('You are not a teenager')\n",
    "elif age>13 and age<=19:\n",
    "    print('You are a teenager')\n",
    "else:\n",
    "    print('You are a child')"
   ]
  },
  {
   "cell_type": "code",
   "execution_count": 15,
   "id": "b95e4455",
   "metadata": {},
   "outputs": [
    {
     "name": "stdout",
     "output_type": "stream",
     "text": [
      "Enter any degree angle 15\n",
      "This is Acute angle\n"
     ]
    }
   ],
   "source": [
    "angle=int(input('Enter any degree angle '))\n",
    "if angle>90:\n",
    "    print('This is Obtuse angle')\n",
    "elif angle==90:\n",
    "    print('This is Right angle')\n",
    "else:\n",
    "    print('This is Acute angle')"
   ]
  },
  {
   "cell_type": "code",
   "execution_count": 16,
   "id": "49ff859b",
   "metadata": {},
   "outputs": [
    {
     "name": "stdout",
     "output_type": "stream",
     "text": [
      "Enter a day num from 1 to 7: 5\n",
      "Today is Friday\n"
     ]
    }
   ],
   "source": [
    "day=int(input('Enter a day num from 1 to 7: '))\n",
    "if day==1:\n",
    "    print('Today is Monday')\n",
    "elif day==2:\n",
    "    print('Today is Tuesday')\n",
    "elif day==3:\n",
    "    print('Today is Wednesday')\n",
    "elif day==4:\n",
    "    print('Today is Thursday')\n",
    "elif day==5:\n",
    "    print('Today is Friday')\n",
    "elif day==6:\n",
    "    print('Today is Saturday')\n",
    "elif day==7:\n",
    "    print('Today is Sunday')\n",
    "else:\n",
    "    print('The number is invalid')"
   ]
  },
  {
   "cell_type": "code",
   "execution_count": 17,
   "id": "fcacd826",
   "metadata": {},
   "outputs": [
    {
     "name": "stdout",
     "output_type": "stream",
     "text": [
      "7 is a prime number\n"
     ]
    }
   ],
   "source": [
    "num=7\n",
    "if num>1:\n",
    "    for i in range(2, int(num/2)+1):\n",
    "        if num%i==0:\n",
    "            print(num, 'is not a prime number')\n",
    "            break\n",
    "    else:\n",
    "        print(num,'is a prime number')\n",
    "else:\n",
    "    print(num, 'is not a prime number')"
   ]
  },
  {
   "cell_type": "code",
   "execution_count": 18,
   "id": "10b1b2af",
   "metadata": {},
   "outputs": [
    {
     "name": "stdout",
     "output_type": "stream",
     "text": [
      "Enter your marks: 50\n",
      "Grade is D\n"
     ]
    }
   ],
   "source": [
    "marks=int(input('Enter your marks: '))\n",
    "if marks>=90:\n",
    "    print('Grade is A+')\n",
    "elif marks>75:\n",
    "    print('Grade is A')\n",
    "elif marks>60:\n",
    "    print('Grade is B')\n",
    "elif marks>50:\n",
    "    print('Grade is C')\n",
    "elif marks>40:\n",
    "    print('Grade is D')\n",
    "else:\n",
    "    print('Grade is E')"
   ]
  },
  {
   "cell_type": "code",
   "execution_count": 19,
   "id": "06064a93",
   "metadata": {},
   "outputs": [
    {
     "name": "stdout",
     "output_type": "stream",
     "text": [
      "Enter length of side a: 5\n",
      "Enter length of side b: 4\n",
      "Enter length of side c: 3\n",
      "Triangle is Scalane\n"
     ]
    }
   ],
   "source": [
    "def is_valid_triangle(a,b,c):\n",
    "    if a+b>=c and b+c>=a and c+a>=b:\n",
    "        return True\n",
    "    else:\n",
    "        return False\n",
    "def type_of_triangle(a,b,c):\n",
    "    if a==b and b==c:\n",
    "        print('Triangle is Equilateral.')\n",
    "    elif a==b or b==c or a==c:\n",
    "        print('Triangle is Isosceles.')\n",
    "    else:\n",
    "        print('Triangle is Scalane')\n",
    "side_a = float(input('Enter length of side a: '))\n",
    "side_b = float(input('Enter length of side b: '))\n",
    "side_c = float(input('Enter length of side c: '))\n",
    "if is_valid_triangle(side_a, side_b, side_c):\n",
    "    type_of_triangle(side_a, side_b, side_c)\n",
    "else:\n",
    "    print('Tringle is not possible from given sides.')\n"
   ]
  },
  {
   "cell_type": "code",
   "execution_count": 20,
   "id": "3d55279a",
   "metadata": {},
   "outputs": [
    {
     "name": "stdout",
     "output_type": "stream",
     "text": [
      "Enter your height in cm: 150\n",
      "Enter your weight in kg: 25\n",
      "Your Body Mass Index is:  11.11111111111111\n",
      "You are underweight\n"
     ]
    }
   ],
   "source": [
    "height=float(input('Enter your height in cm: '))\n",
    "weight=float(input('Enter your weight in kg: '))\n",
    "BMI=weight/(height/100)**2\n",
    "print('Your Body Mass Index is: ',BMI)\n",
    "if BMI<=20:\n",
    "    print('You are underweight')\n",
    "elif BMI<=25:\n",
    "    print('You are healthy')\n",
    "elif BMI<=30:\n",
    "    print('You are overweight')\n",
    "else:\n",
    "    print('You are obese')"
   ]
  },
  {
   "cell_type": "code",
   "execution_count": 21,
   "id": "50590929",
   "metadata": {},
   "outputs": [
    {
     "name": "stdout",
     "output_type": "stream",
     "text": [
      "Enter a num: 25\n",
      "The number is positive\n"
     ]
    }
   ],
   "source": [
    "n=int(input('Enter a num: '))\n",
    "if n>0:\n",
    "    print('The number is positive')\n",
    "elif n==0:\n",
    "    print('The number is Zero')\n",
    "elif n<0:\n",
    "    print('The number is negative')"
   ]
  },
  {
   "cell_type": "code",
   "execution_count": 22,
   "id": "50c88d58",
   "metadata": {},
   "outputs": [
    {
     "name": "stdout",
     "output_type": "stream",
     "text": [
      "Enter any character: h\n",
      "This is Lowercase character\n"
     ]
    }
   ],
   "source": [
    "ch=input('Enter any character: ')\n",
    "if ch.isupper():\n",
    "    print('This is Uppercase character')\n",
    "elif ch.islower():\n",
    "    print('This is Lowercase character')\n",
    "else:\n",
    "    print('This is Special character')"
   ]
  },
  {
   "cell_type": "code",
   "execution_count": 23,
   "id": "1cb326f0",
   "metadata": {},
   "outputs": [
    {
     "name": "stdout",
     "output_type": "stream",
     "text": [
      "Enter the amount: 25000\n",
      "Discount Amount = 1500.00\n",
      "Net Bill Amount = 23500.00\n"
     ]
    }
   ],
   "source": [
    "price=int(input('Enter the amount: '))\n",
    "if price<=5000:\n",
    "    dis=0\n",
    "elif price>5000 and price<=10000:\n",
    "    dis=(price-5000)*(10/1000)\n",
    "elif price>10000 and price<=20000:\n",
    "    dis=(price-10000)*(20/100)\n",
    "else:\n",
    "    dis=(price-20000)*(30/100)\n",
    "print('Discount Amount = {:.2f}'.format(dis))\n",
    "print('Net Bill Amount = {:.2f}'.format(price-dis))"
   ]
  },
  {
   "cell_type": "code",
   "execution_count": 24,
   "id": "d36e242a",
   "metadata": {},
   "outputs": [
    {
     "name": "stdout",
     "output_type": "stream",
     "text": [
      "Enter the unit consumed: 50\n",
      "Your Electricity Bill amount is 100.00\n"
     ]
    }
   ],
   "source": [
    "units=float(input('Enter the unit consumed: '))\n",
    "if units>0 and units<=100:\n",
    "    payment=units*1.5\n",
    "    fixedcharge=25\n",
    "elif units>100 and units<=200:\n",
    "    payment=(100*1.5)+(units-100)*2.5\n",
    "    fixedcharge=50\n",
    "elif units>200 and units<=300:\n",
    "    payment=(100*1.5)+(200-100)*2.5+(units-200)*4\n",
    "    fixedcharge=75\n",
    "else:\n",
    "    payment=0\n",
    "    fixedcharge=1500\n",
    "total=payment+fixedcharge\n",
    "print(f\"Your Electricity Bill amount is {total:.2f}\")"
   ]
  },
  {
   "cell_type": "code",
   "execution_count": 25,
   "id": "d8db504b",
   "metadata": {},
   "outputs": [
    {
     "name": "stdout",
     "output_type": "stream",
     "text": [
      "75.0 , 85.0 , 95.0 , 105.0\n"
     ]
    }
   ],
   "source": [
    "d = 10\n",
    "a = 0.0\n",
    "a=(360 - (6 * d)) / 4\n",
    " \n",
    "print(a,\",\", a + d, \",\", a + 2 * d,\",\", a + 3 * d, sep = ' ')"
   ]
  },
  {
   "cell_type": "code",
   "execution_count": 26,
   "id": "709a27f4",
   "metadata": {},
   "outputs": [
    {
     "name": "stdout",
     "output_type": "stream",
     "text": [
      "Enter any num: 5\n",
      "Number is positive\n"
     ]
    }
   ],
   "source": [
    "n=int(input('Enter any num: '))\n",
    "if n>0:\n",
    "    print('Number is positive')\n",
    "elif n==0:\n",
    "    print('Number is Zero')\n",
    "else:\n",
    "    print('Number is negative')"
   ]
  },
  {
   "cell_type": "code",
   "execution_count": 27,
   "id": "eb4595ba",
   "metadata": {},
   "outputs": [
    {
     "name": "stdout",
     "output_type": "stream",
     "text": [
      "Enter the age: 12\n",
      "The person is not eligible for the vote\n"
     ]
    }
   ],
   "source": [
    "age=int(input('Enter the age: '))\n",
    "if age>=18:\n",
    "    print('The person is eligible for the vote')\n",
    "else:\n",
    "    print('The person is not eligible for the vote')"
   ]
  },
  {
   "cell_type": "code",
   "execution_count": 28,
   "id": "9e6dd8b5",
   "metadata": {},
   "outputs": [
    {
     "name": "stdout",
     "output_type": "stream",
     "text": [
      "Enter a number: 10\n",
      "Enter a number: 12\n",
      "12 is greater\n"
     ]
    }
   ],
   "source": [
    "num1=int(input('Enter a number: '))\n",
    "num2=int(input('Enter a number: '))\n",
    "if num1>num2:\n",
    "    print(num1, 'is greater')\n",
    "else:\n",
    "    print(num2, 'is greater')"
   ]
  },
  {
   "cell_type": "code",
   "execution_count": 29,
   "id": "82c2e71e",
   "metadata": {},
   "outputs": [
    {
     "name": "stdout",
     "output_type": "stream",
     "text": [
      "Grade is B\n"
     ]
    }
   ],
   "source": [
    "score=75\n",
    "if score>=90:\n",
    "    print('Grade is A+')\n",
    "elif score>=85:\n",
    "    print('Grade is A')\n",
    "elif score>=75:\n",
    "    print('Grade is B')\n",
    "elif score>=60:\n",
    "    print('Grade is C')\n",
    "elif score>=45:\n",
    "    print('Grade is D')\n",
    "else:\n",
    "    print('Grade is E')"
   ]
  },
  {
   "cell_type": "code",
   "execution_count": 30,
   "id": "6518de2e",
   "metadata": {},
   "outputs": [
    {
     "name": "stdout",
     "output_type": "stream",
     "text": [
      "2026 is not a leap year\n"
     ]
    }
   ],
   "source": [
    "year=2026\n",
    "if (year%4==0 and year%100!=0) or (year%400==0):\n",
    "    print(f'{year} is a leap year')\n",
    "else:\n",
    "    print(f\"{year} is not a leap year\")"
   ]
  },
  {
   "cell_type": "code",
   "execution_count": 31,
   "id": "50ef986f",
   "metadata": {},
   "outputs": [
    {
     "name": "stdout",
     "output_type": "stream",
     "text": [
      "The largest num is:  7\n"
     ]
    }
   ],
   "source": [
    "a=5\n",
    "b=7\n",
    "c=6\n",
    "if (a>b) and (a>c):\n",
    "    largest=a\n",
    "    print('The largest num is: ',largest)\n",
    "elif (b>a) and (b>c):\n",
    "    largest=b\n",
    "    print('The largest num is: ',largest)\n",
    "else:\n",
    "    largest=c\n",
    "    print('The largest num is: ',largest)"
   ]
  },
  {
   "cell_type": "code",
   "execution_count": 32,
   "id": "f934f414",
   "metadata": {},
   "outputs": [
    {
     "name": "stdout",
     "output_type": "stream",
     "text": [
      "Enter a character: s\n",
      "Character is consonant\n"
     ]
    }
   ],
   "source": [
    "string=input('Enter a character: ')\n",
    "if string in ('a','e','i','o','u','A','E','I','O','U'):\n",
    "    print('Character is vowel')\n",
    "else:\n",
    "    print('Character is consonant')"
   ]
  },
  {
   "cell_type": "code",
   "execution_count": 33,
   "id": "f8b17585",
   "metadata": {},
   "outputs": [
    {
     "name": "stdout",
     "output_type": "stream",
     "text": [
      "Enter the amount: 15000\n",
      "Discount Amount = 1000.00\n",
      "Net Bill Amount = 14000.00\n"
     ]
    }
   ],
   "source": [
    "price=int(input('Enter the amount: '))\n",
    "if price<=5000:\n",
    "    dis=0\n",
    "elif price>5000 and price<=10000:\n",
    "    dis=(price-5000)*(10/1000)\n",
    "elif price>10000 and price<=20000:\n",
    "    dis=(price-10000)*(20/100)\n",
    "else:\n",
    "    dis=(price-20000)*(30/100)\n",
    "print('Discount Amount = {:.2f}'.format(dis))\n",
    "print('Net Bill Amount = {:.2f}'.format(price-dis))"
   ]
  },
  {
   "cell_type": "code",
   "execution_count": 34,
   "id": "f4bd31ec",
   "metadata": {},
   "outputs": [
    {
     "name": "stdout",
     "output_type": "stream",
     "text": [
      "Enter a number: 0\n",
      "Given num is even\n"
     ]
    }
   ],
   "source": [
    "n=int(input('Enter a number: '))\n",
    "if n%2==0:\n",
    "    print('Given num is even')\n",
    "else:\n",
    "    print('Given num is odd')"
   ]
  },
  {
   "cell_type": "code",
   "execution_count": 35,
   "id": "f32bf520",
   "metadata": {},
   "outputs": [
    {
     "name": "stdout",
     "output_type": "stream",
     "text": [
      "The solution are (-3+0j) and (-2+0j)\n"
     ]
    }
   ],
   "source": [
    "import cmath\n",
    "\n",
    "a = 1\n",
    "b = 5\n",
    "c = 6\n",
    "d = (b**2) - (4*a*c)\n",
    "sol1 = (-b-cmath.sqrt(d))/(2*a)\n",
    "sol2 = (-b+cmath.sqrt(d))/(2*a)\n",
    "print('The solution are {0} and {1}'.format(sol1,sol2))"
   ]
  },
  {
   "cell_type": "code",
   "execution_count": 36,
   "id": "fe3cac25",
   "metadata": {},
   "outputs": [
    {
     "name": "stdout",
     "output_type": "stream",
     "text": [
      "Enter the day number: 4\n",
      "Today is Thursday\n"
     ]
    }
   ],
   "source": [
    "n=int(input('Enter the day number: '))\n",
    "if n==1:\n",
    "    print('Today is Monday')\n",
    "elif n==2:\n",
    "    print('Today is Tuesday')\n",
    "elif n==3:\n",
    "    print('Today is Wednesday')\n",
    "elif n==4:\n",
    "    print('Today is Thursday')\n",
    "elif n==5:\n",
    "    print('Today is Friday')\n",
    "elif n==6:\n",
    "    print('Today is Saturday')\n",
    "elif n==7:\n",
    "    print('Today is Sunday')\n",
    "else:\n",
    "    print('Invalid number')"
   ]
  },
  {
   "cell_type": "code",
   "execution_count": 37,
   "id": "e99b3142",
   "metadata": {},
   "outputs": [
    {
     "name": "stdout",
     "output_type": "stream",
     "text": [
      "The factorial of 7 is 5040\n"
     ]
    }
   ],
   "source": [
    "def fact(n):\n",
    "    if n==1:\n",
    "        return n\n",
    "    else:\n",
    "        return n*fact(n-1)\n",
    "num=7\n",
    "if num<0:\n",
    "    print('Factorial does not exist for negative number')\n",
    "elif num==0:\n",
    "    print('The factorial of 0 is 1')\n",
    "else:\n",
    "    print('The factorial of',num, 'is', fact(num))"
   ]
  },
  {
   "cell_type": "code",
   "execution_count": 38,
   "id": "44f2e6b0",
   "metadata": {},
   "outputs": [
    {
     "name": "stdout",
     "output_type": "stream",
     "text": [
      "The largest number between 10 , 15 , 12 is 15\n"
     ]
    }
   ],
   "source": [
    "def largest(num1,num2,num3):\n",
    "    sortnum=sorted([num1,num2,num3])\n",
    "    return sortnum[-1]\n",
    "a=10\n",
    "b=15\n",
    "c=12\n",
    "maximum=largest(a,b,c)\n",
    "print('The largest number between',a,',',b,',',c, 'is',maximum)"
   ]
  },
  {
   "cell_type": "code",
   "execution_count": 39,
   "id": "acb46826",
   "metadata": {},
   "outputs": [],
   "source": [
    "class ATM:\n",
    "    def __init__(self, balance=0, pin=0000):\n",
    "        self.balance = balance\n",
    "        self.pin = pin\n",
    "\n",
    "    def check_balance(self):\n",
    "        return self.balance\n",
    "\n",
    "    def withdraw(self, amount):\n",
    "        if amount > self.balance:\n",
    "            return \"Insufficient funds.\"\n",
    "        else:\n",
    "            self.balance -= amount\n",
    "            return f\"Withdrawal successful. Current balance: {self.balance}\"\n",
    "\n",
    "    def deposit(self, amount):\n",
    "        self.balance += amount\n",
    "        return f\"Deposit successful. Current balance: {self.balance}\"\n",
    "\n",
    "    def change_pin(self, new_pin):\n",
    "        self.pin = new_pin\n",
    "        return \"PIN changed successfully.\"\n"
   ]
  },
  {
   "cell_type": "code",
   "execution_count": 40,
   "id": "f742e3d9",
   "metadata": {},
   "outputs": [
    {
     "name": "stdout",
     "output_type": "stream",
     "text": [
      "Welcome to the ATM machine.\n",
      "Please enter your PIN: 1234\n",
      "\n",
      "Menu:\n",
      "1. Check Balance\n",
      "2. Withdraw\n",
      "3. Deposit\n",
      "4. Change PIN\n",
      "5. Exit\n",
      "\n",
      "Enter your choice: 1\n",
      "Current balance: 1000\n",
      "Welcome to the ATM machine.\n",
      "Please enter your PIN: 1234\n",
      "\n",
      "Menu:\n",
      "1. Check Balance\n",
      "2. Withdraw\n",
      "3. Deposit\n",
      "4. Change PIN\n",
      "5. Exit\n",
      "\n",
      "Enter your choice: 2510\n",
      "Invalid option. Please try again.\n",
      "Welcome to the ATM machine.\n",
      "Please enter your PIN: 1234\n",
      "\n",
      "Menu:\n",
      "1. Check Balance\n",
      "2. Withdraw\n",
      "3. Deposit\n",
      "4. Change PIN\n",
      "5. Exit\n",
      "\n",
      "Enter your choice: 1\n",
      "Current balance: 1000\n",
      "Welcome to the ATM machine.\n",
      "Please enter your PIN: 1234\n",
      "\n",
      "Menu:\n",
      "1. Check Balance\n",
      "2. Withdraw\n",
      "3. Deposit\n",
      "4. Change PIN\n",
      "5. Exit\n",
      "\n",
      "Enter your choice: 1\n",
      "Current balance: 1000\n",
      "Welcome to the ATM machine.\n",
      "Please enter your PIN: 1234\n",
      "\n",
      "Menu:\n",
      "1. Check Balance\n",
      "2. Withdraw\n",
      "3. Deposit\n",
      "4. Change PIN\n",
      "5. Exit\n",
      "\n",
      "Enter your choice: 5\n",
      "Thank you for using the ATM machine.\n"
     ]
    }
   ],
   "source": [
    "def main():\n",
    "    atm = ATM(1000, 1234)\n",
    "\n",
    "    while True:\n",
    "        print(\"Welcome to the ATM machine.\")\n",
    "        pin = int(input(\"Please enter your PIN: \"))\n",
    "\n",
    "        if pin != atm.pin:\n",
    "            print(\"Incorrect PIN. Please try again.\")\n",
    "            continue\n",
    "\n",
    "        print(\"\\nMenu:\")\n",
    "        print(\"1. Check Balance\")\n",
    "        print(\"2. Withdraw\")\n",
    "        print(\"3. Deposit\")\n",
    "        print(\"4. Change PIN\")\n",
    "        print(\"5. Exit\")\n",
    "\n",
    "        option = int(input(\"\\nEnter your choice: \"))\n",
    "\n",
    "        if option == 1:\n",
    "            print(\"Current balance:\", atm.check_balance())\n",
    "\n",
    "        elif option == 2:\n",
    "            amount = float(input(\"Enter the amount to withdraw: \"))\n",
    "            print(atm.withdraw(amount))\n",
    "\n",
    "        elif option == 3:\n",
    "            amount = float(input(\"Enter the amount to deposit: \"))\n",
    "            print(atm.deposit(amount))\n",
    "\n",
    "        elif option == 4:\n",
    "            new_pin = int(input(\"Enter your new PIN: \"))\n",
    "            print(atm.change_pin(new_pin))\n",
    "\n",
    "        elif option == 5:\n",
    "            print(\"Thank you for using the ATM machine.\")\n",
    "            break\n",
    "\n",
    "        else:\n",
    "\n",
    "              print(\"Invalid option. Please try again.\")\n",
    "\n",
    "\n",
    "if __name__ == \"__main__\":\n",
    "    main()\n"
   ]
  },
  {
   "cell_type": "code",
   "execution_count": 41,
   "id": "487d8aae",
   "metadata": {},
   "outputs": [
    {
     "name": "stdout",
     "output_type": "stream",
     "text": [
      "Enter any strings: hj\n",
      "Given string is not Palindrome\n"
     ]
    }
   ],
   "source": [
    "s=input('Enter any strings: ')\n",
    "if s==s[::-1]:\n",
    "    print('Given string is Palindrome')\n",
    "else:\n",
    "    print('Given string is not Palindrome')"
   ]
  },
  {
   "cell_type": "code",
   "execution_count": 42,
   "id": "211e6a1f",
   "metadata": {},
   "outputs": [
    {
     "name": "stdout",
     "output_type": "stream",
     "text": [
      "Enter the numbers to be inserted: 5\n",
      "Enter element: 1\n",
      "Enter element: 23\n",
      "Enter element: 2\n",
      "Enter element: 5\n",
      "Enter element: 3\n",
      "Average of elements in the list are:  6.8\n"
     ]
    }
   ],
   "source": [
    "n=int(input('Enter the numbers to be inserted: '))\n",
    "a=[]\n",
    "for i in range(0,n):\n",
    "    elem=int(input('Enter element: '))\n",
    "    a.append(elem)\n",
    "avg=sum(a)/n\n",
    "print('Average of elements in the list are: ',round(avg,2))"
   ]
  },
  {
   "cell_type": "code",
   "execution_count": 43,
   "id": "a32dd96b",
   "metadata": {},
   "outputs": [
    {
     "name": "stdout",
     "output_type": "stream",
     "text": [
      "Enter the temprature in Celsius: 25\n",
      "Temprature in Fahrenheit is:  77.0\n"
     ]
    }
   ],
   "source": [
    "celsius=int(input('Enter the temprature in Celsius: '))\n",
    "fahreneit=(1.8*celsius)+32\n",
    "print('Temprature in Fahrenheit is: ',fahreneit)"
   ]
  },
  {
   "cell_type": "code",
   "execution_count": 44,
   "id": "e1d4bc26",
   "metadata": {},
   "outputs": [
    {
     "name": "stdout",
     "output_type": "stream",
     "text": [
      "Enter 1st number: 4\n",
      "Enter 2nd number: 5\n",
      "Enter any one operator-> +,-,/,*: +\n",
      "9\n"
     ]
    }
   ],
   "source": [
    "a=int(input('Enter 1st number: '))\n",
    "b=int(input('Enter 2nd number: '))\n",
    "operator=input('Enter any one operator-> +,-,/,*: ')\n",
    "if operator=='+':\n",
    "    print(a+b)\n",
    "elif operator=='-':\n",
    "    print(a-b)\n",
    "elif operator=='/':\n",
    "    print(a/b)\n",
    "elif operator=='*':\n",
    "    print(a*b)\n",
    "else:\n",
    "    print('Invalid operator')"
   ]
  },
  {
   "cell_type": "code",
   "execution_count": 45,
   "id": "daae73a7",
   "metadata": {},
   "outputs": [
    {
     "name": "stdout",
     "output_type": "stream",
     "text": [
      "What's your annual income?\n",
      ">>> 2100000\n",
      "Total tax applicable at ₹2100000.0 is ₹367500.0\n"
     ]
    }
   ],
   "source": [
    "def calculate(amount, percent): \n",
    "    return (amount * percent) / 100\n",
    "  \n",
    "def calculate_income_tax(total_income:  \n",
    "                         float) -> float: \n",
    "  \n",
    "    if total_income <= 250000: \n",
    "        return 0\n",
    "    elif total_income <= 500000: \n",
    "        return calculate(total_income - \n",
    "                         250000, 5) \n",
    "    elif total_income <= 750000: \n",
    "        return calculate(total_income - \n",
    "                         500000, 10) + 12500\n",
    "    elif total_income <= 1000000: \n",
    "        return calculate(total_income - \n",
    "                         750000, 15) + 37500\n",
    "    elif total_income <= 1250000: \n",
    "        return calculate(total_income - \n",
    "                         1000000, 20) + 75000\n",
    "    elif total_income <= 1500000: \n",
    "        return calculate(total_income - \n",
    "                         1250000, 25) + 125000\n",
    "    else: \n",
    "        return calculate(total_income - \n",
    "                         1500000, 30) + 187500\n",
    "  \n",
    "  \n",
    "if __name__ == '__main__': \n",
    "    total_income = float(input(\"What's your annual income?\\n>>> \")) \n",
    "    tax = calculate_income_tax(total_income) \n",
    "    print(f\"Total tax applicable at ₹{total_income} is ₹{tax}\") \n"
   ]
  },
  {
   "cell_type": "code",
   "execution_count": 2,
   "id": "c5f9b2e5",
   "metadata": {},
   "outputs": [
    {
     "name": "stdout",
     "output_type": "stream",
     "text": [
      "Rock, Paper, Scissors?Rock\n",
      "Its a Tie\n"
     ]
    }
   ],
   "source": [
    "import random\n",
    "play=['Rock','Paper','Scissors']\n",
    "computer=play[random.randint(0,2)]\n",
    "player=False\n",
    "while player==False:\n",
    "    player=input('Rock, Paper, Scissors?')\n",
    "    if player==computer:\n",
    "        print('Its a Tie')\n",
    "    elif player=='Rock':\n",
    "        if computer=='Paper':\n",
    "            print('You Lose!',computer,'covers',player)\n",
    "        else:\n",
    "            print('You Win!',player,'smashes',computer)\n",
    "    elif player=='Paper':\n",
    "        if computer==\"Scissors\":\n",
    "            print('You Lose!',computer,'cuts',player)\n",
    "        else:\n",
    "            print('You Win!',player,'covers',computer)\n",
    "    elif player=='Scissors':\n",
    "        if computer=='Rock':\n",
    "            print('You Lose!',computer,'smashes',player)\n",
    "        else:\n",
    "            print('You Win!',player,'cuts',computer)\n",
    "    else:\n",
    "        print('That is not a valid play. Please check spellings!')\n",
    "    \n",
    "player=False\n",
    "computer=play[random.randint(0,2)]"
   ]
  },
  {
   "cell_type": "code",
   "execution_count": 47,
   "id": "03609792",
   "metadata": {},
   "outputs": [
    {
     "name": "stdout",
     "output_type": "stream",
     "text": [
      "WELCOME TO THE ADVENTURE GAME!\n",
      "        Let's start the action! ☆-🎬-☆\n",
      " \n",
      "        Lily wakes up in her bedroom in the middle of the night. She heard a loud BAN outside the house.\n",
      "        Now she has two choices she can either stay in the room or check what the sound might be about.\n",
      " \n",
      "        Type your choice: Stay or Evaluate?\n",
      "    \n",
      "Evaluate\n",
      "Lily exits the room silently and reaches the main hall.\n",
      "\n",
      "            In the main hall, she finds a strange but cute teddy bear on the floor. \n",
      "            She wanted to pick the teddy up. \n",
      "            But should she? It doesn't belong to her. (•˳̂•̆)\n",
      " \n",
      "            Type your choice: Pick or Ignore?\n",
      " \n",
      "            \n",
      "Ignore\n",
      "\n",
      "Lily decided not to pick up the bear and walked forward.\n",
      "\n",
      "\n",
      "After walking for a while, Lily saw the MONSTOR in front of her!\n",
      "    It had red eyes and evil looks. She got very scared! \n",
      "The monster attacked Lily and hurt her! She was then thrown to the new world by the monster!\n",
      "\n",
      "\n",
      "\n",
      "=================================END OF CHAPTER 1=================================\n"
     ]
    }
   ],
   "source": [
    "def scene1():\n",
    "    import time\n",
    "    print(\"\"\"WELCOME TO THE ADVENTURE GAME!\n",
    "        Let's start the action! ☆-🎬-☆\n",
    " \n",
    "        Lily wakes up in her bedroom in the middle of the night. She heard a loud BAN outside the house.\n",
    "        Now she has two choices she can either stay in the room or check what the sound might be about.\n",
    " \n",
    "        Type your choice: Stay or Evaluate?\n",
    "    \"\"\")\n",
    " \n",
    "    c1 = input()\n",
    "    time.sleep(2)\n",
    "    ans = 'incorrect'\n",
    "    while(ans=='incorrect'):\n",
    "        if(c1.upper()==\"STAY\"):\n",
    "            print(\"\\nLily decides to stay in the room and ends up staying inside forever as noone seems to come to help her.\")\n",
    "            ans = 'correct'\n",
    "        elif(c1.upper()==\"EVALUATE\"):\n",
    "            print(\"Lily exits the room silently and reaches the main hall.\")\n",
    "            ans='correct'\n",
    "            scene2()\n",
    "        else:\n",
    "            print(\"ENTER THE CORRECT CHOICE! Stay or Evaluate?\")\n",
    "            c1 = input()\n",
    "\n",
    "def scene2():\n",
    "    import time\n",
    "    print(\"\"\"\n",
    "            In the main hall, she finds a strange but cute teddy bear on the floor. \n",
    "            She wanted to pick the teddy up. \n",
    "            But should she? It doesn't belong to her. (•˳̂•̆)\n",
    " \n",
    "            Type your choice: Pick or Ignore?\n",
    " \n",
    "            \"\"\")\n",
    "    time.sleep(2)\n",
    "    c1 = input()\n",
    "    ans = 'incorrect'\n",
    "    while(ans=='incorrect'):\n",
    "        if(c1.upper()==\"PICK\"):\n",
    "            print(\"\"\"\\nThe moment Lily picked up the the teddy bear. The Teddy bear starts TALKING!The bear tells Lily that she is in grave danger as there is a monster in the house.And the monster has captured her PARENTS as well!But he hugged her and told her not to get scared as he knows how to beat the moster!\"\"\")\n",
    "            time.sleep(2)\n",
    "            print(\"\"\"\\nThe bear handed lily a magical potion which can weaken the moster and make him run away!He handed her the potion and then DISAPPEARED!Lily moved forward.\"\"\")\n",
    "            ans = 'correct'\n",
    "            pick=\"True\"\n",
    "        elif(c1.upper()=='IGNORE'):\n",
    "            print(\"\"\"\\nLily decided not to pick up the bear and walked forward.\"\"\")\n",
    "            ans='correct'\n",
    "            pick=\"False\"\n",
    "        else:\n",
    "            print(\"Wrong Input! Enter pick or ignore?\")\n",
    "            c1=input()\n",
    "    time.sleep(2)\n",
    "    scene3(pick)\n",
    "\n",
    "def scene3(pick_value):\n",
    "    import time\n",
    "    print(\"\"\"\\n\\nAfter walking for a while, Lily saw the MONSTOR in front of her!\n",
    "    It had red eyes and evil looks. She got very scared! \"\"\")\n",
    "    time.sleep(2)\n",
    "    if(pick_value==\"True\"):\n",
    "        time.sleep(2)\n",
    "        print(\"\"\"But then she remembered! She had the magic portion and she threw it on the moster!\n",
    "              Well she had nothing to lose!\"\"\")\n",
    "        time.sleep(2)\n",
    "        print(\"\\n The monster SCREAMED in pain but he managed to make a portal and pushed Lily to a new world!\")\n",
    "    elif(pick_value==\"False\"):\n",
    "        print(\"The monster attacked Lily and hurt her! She was then thrown to the new world by the monster!\")\n",
    "\n",
    "scene1()\n",
    "print(\"\\n\\n\")\n",
    "print(\"=================================END OF CHAPTER 1=================================\")\n"
   ]
  },
  {
   "cell_type": "code",
   "execution_count": 1,
   "id": "916e1667",
   "metadata": {
    "scrolled": true
   },
   "outputs": [
    {
     "name": "stdout",
     "output_type": "stream",
     "text": [
      "What is your name? Karan\n",
      "Hello Karan, welcome to Quiz night! \n",
      "You will be presented with 5 questions.\n",
      "Enter the appropriate number to answer the question\n",
      "Good luck!\n",
      "\n",
      "What is Capital of two states?\n",
      "1. Delhi\n",
      "2. Chandigarh\n",
      "3. Jaipur\n",
      "4. Lucknow\n",
      "Your answer is: 2\n",
      "Well Done! 2 is correct.\n",
      "Your current score is 1 out of 5\n",
      "\n",
      "Who is the Chief Minister of Telangana?\n",
      "1. Revanth Reddy\n",
      "2. YS Jagan Mohan Reddy\n",
      "3. MK Stalin\n",
      "4. T Raja Singh\n",
      "Your answer is: 1\n",
      "Well done! 1 is correct.\n",
      "Your current score is 2 out of 5\n",
      "\n",
      "Who is the Defence Minister of India?\n",
      "1. Amit Shah\n",
      "2. Nirmala Sitaraman\n",
      "3. Hardeep Singh Puri\n",
      "4. Rajnath Singh\n",
      "Your answer is: 4\n",
      "Well done! 4 is correct.\n",
      "Your current score is 3 out of 5\n",
      "\n",
      "What is the capital of Uttrakhand?\n",
      "1. Lucknow\n",
      "2. Jaunsar\n",
      "3. Dehradun\n",
      "4. Rudrapur\n",
      "Your answer is: 3\n",
      "Well done! 3 is correct.\n",
      "Your current score is 4 out of 5\n",
      "\n",
      "What is the capital of Jammu & Kashmir?\n",
      "1. Anantnag\n",
      "2. Sonmarg\n",
      "3. Shimla\n",
      "4. Srinagar\n",
      "Your answer is: 4\n",
      "Well done! 4 is correct.\n",
      "Your total score is 5 out of 5\n",
      "Thank you for playing Karan, goodbye!\n"
     ]
    }
   ],
   "source": [
    "score=0\n",
    "score=int(score)\n",
    "name=input('What is your name? ')\n",
    "name=name.title()\n",
    "print(\"\"\"Hello {}, welcome to Quiz night! \n",
    "You will be presented with 5 questions.\n",
    "Enter the appropriate number to answer the question\n",
    "Good luck!\"\"\".format(name))\n",
    "\n",
    "\n",
    "print('''\\nWhat is Capital of two states?\n",
    "1. Delhi\n",
    "2. Chandigarh\n",
    "3. Jaipur\n",
    "4. Lucknow''')\n",
    "\n",
    "answer1='2'\n",
    "response1=input('Your answer is: ')\n",
    "\n",
    "if (response1!=answer1):\n",
    "    print('Sorry, Your answer is incorrect!')\n",
    "else:\n",
    "    print('Well Done!',response1,'is correct.')\n",
    "    score=score+1\n",
    "print('Your current score is ' +str(score)+ ' out of 5')\n",
    "\n",
    "\n",
    "print('''\\nWho is the Chief Minister of Telangana?\n",
    "1. Revanth Reddy\n",
    "2. YS Jagan Mohan Reddy\n",
    "3. MK Stalin\n",
    "4. T Raja Singh''')\n",
    "\n",
    "answer2='1'\n",
    "response2=input('Your answer is: ')\n",
    "if (response2!=answer2):\n",
    "    print('Sorry! Your answer is incorrect.')\n",
    "else:\n",
    "    print('Well done!',response2,'is correct.')\n",
    "    score=score+1\n",
    "print('Your current score is ' +str(score)+ ' out of 5')\n",
    "\n",
    "\n",
    "print('''\\nWho is the Defence Minister of India?\n",
    "1. Amit Shah\n",
    "2. Nirmala Sitaraman\n",
    "3. Hardeep Singh Puri\n",
    "4. Rajnath Singh''')\n",
    "\n",
    "answer3='4'\n",
    "response3=input('Your answer is: ')\n",
    "if (response3!=answer3):\n",
    "    print('Sorry! Your answer is incorrect.')\n",
    "else:\n",
    "    print('Well done!',response3,'is correct.')\n",
    "    score=score+1\n",
    "print('Your current score is ' +str(score)+ ' out of 5')\n",
    "\n",
    "\n",
    "print('''\\nWhat is the capital of Uttrakhand?\n",
    "1. Lucknow\n",
    "2. Jaunsar\n",
    "3. Dehradun\n",
    "4. Rudrapur''')\n",
    "\n",
    "answer4='3'\n",
    "response4=input('Your answer is: ')\n",
    "if (response4!=answer4):\n",
    "    print('Sorry! Your answer is incorrect.')\n",
    "else:\n",
    "    print('Well done!',response4,'is correct.')\n",
    "    score=score+1\n",
    "print('Your current score is ' +str(score)+ ' out of 5')\n",
    "\n",
    "\n",
    "print('''\\nWhat is the capital of Jammu & Kashmir?\n",
    "1. Anantnag\n",
    "2. Sonmarg\n",
    "3. Shimla\n",
    "4. Srinagar''')\n",
    "\n",
    "answer5='4'\n",
    "response5=input('Your answer is: ')\n",
    "if (response5!=answer5):\n",
    "    print('Sorry! Your answer is incorrect.')\n",
    "else:\n",
    "    print('Well done!',response5,'is correct.')\n",
    "    score=score+1\n",
    "print(\"Your total score is \" + str(score) + \" out of 5\")\n",
    "print(\"Thank you for playing {}, goodbye!\".format(name))"
   ]
  },
  {
   "cell_type": "code",
   "execution_count": 3,
   "id": "0100d58d",
   "metadata": {},
   "outputs": [
    {
     "name": "stdout",
     "output_type": "stream",
     "text": [
      "Enter any year to check: 2023\n"
     ]
    }
   ],
   "source": [
    "year=int(input('Enter any year to check: '))\n",
    "if year>1:\n",
    "    for i in range(2, int(year/2)+1):\n",
    "        if (year%i==0):\n",
    "            print(num, 'is not a prime number')\n",
    "        break\n",
    "    else:\n",
    "        print(year, 'is a prime number')\n",
    "else:\n",
    "    print(year, 'is not a prime number')"
   ]
  },
  {
   "cell_type": "code",
   "execution_count": 4,
   "id": "065960d1",
   "metadata": {},
   "outputs": [
    {
     "name": "stdout",
     "output_type": "stream",
     "text": [
      "Enter 1st number: 5\n",
      "Enter 2nd number: 8\n",
      "Enter 3rd number: 1\n",
      "The numbers in ascending orders are:  1 5 8\n"
     ]
    }
   ],
   "source": [
    "num1=int(input('Enter 1st number: '))\n",
    "num2=int(input('Enter 2nd number: '))\n",
    "num3=int(input('Enter 3rd number: '))\n",
    "\n",
    "if num1<=num2 and num1<=num3:\n",
    "    smallest=num1\n",
    "    if num2<=num3:\n",
    "        middle=num2\n",
    "        largest=num3\n",
    "    else:\n",
    "        middle=num3\n",
    "        largest=num2\n",
    "elif num2<=num1 and num2<=num3:\n",
    "    smallest=num2\n",
    "    if num1<=num3:\n",
    "        middle=num1\n",
    "        largest=num3\n",
    "    else:\n",
    "        middle=num3\n",
    "        largest=num1\n",
    "else:\n",
    "    smallest=num3\n",
    "    if num1<=num2:\n",
    "        middle=num1\n",
    "        largest=num2\n",
    "    else:\n",
    "        middle=num2\n",
    "        largest=num1\n",
    "print('The numbers in ascending orders are: ', smallest,middle,largest)"
   ]
  },
  {
   "cell_type": "code",
   "execution_count": 5,
   "id": "3a1f3efe",
   "metadata": {},
   "outputs": [
    {
     "name": "stdout",
     "output_type": "stream",
     "text": [
      "Enter your height in cm: 162\n",
      "Enter your weight in kg: 75\n",
      "Your Body Mass Index is:  28.577960676726104\n",
      "You are overweight\n"
     ]
    }
   ],
   "source": [
    "height=float(input('Enter your height in cm: '))\n",
    "weight=float(input('Enter your weight in kg: '))\n",
    "BMI=weight/(height/100)**2\n",
    "print('Your Body Mass Index is: ',BMI)\n",
    "if BMI<=20:\n",
    "    print('You are underweight')\n",
    "elif BMI<=25:\n",
    "    print('You are healthy')\n",
    "elif BMI<=30:\n",
    "    print('You are overweight')\n",
    "else:\n",
    "    print('You are obese')"
   ]
  },
  {
   "cell_type": "code",
   "execution_count": 4,
   "id": "b86d0098",
   "metadata": {},
   "outputs": [
    {
     "name": "stdout",
     "output_type": "stream",
     "text": [
      "Enter your password: Dst@234\n",
      "Valid Password\n"
     ]
    }
   ],
   "source": [
    "import re\n",
    "p=input('Enter your password: ')\n",
    "x=True\n",
    "while x:\n",
    "    if (len(p)<6 or len(p)>12):\n",
    "        break\n",
    "    elif not re.search('[a-z]',p):\n",
    "        break\n",
    "    elif not re.search('[0-9]',p):\n",
    "        break\n",
    "    elif not re.search('[A-z]',p):\n",
    "        break\n",
    "    elif not re.search('[$#@]',p):\n",
    "        break\n",
    "    elif re.search('\\s',p):\n",
    "        break\n",
    "    else:\n",
    "        print('Valid Password')\n",
    "        x=False\n",
    "        break\n",
    "if x:\n",
    "    print('Password Invalid')"
   ]
  },
  {
   "cell_type": "code",
   "execution_count": 7,
   "id": "45d58acc",
   "metadata": {},
   "outputs": [
    {
     "name": "stdout",
     "output_type": "stream",
     "text": [
      "Result for addition: \n",
      "[[ 2  9 16]\n",
      " [ 5 10 15]\n",
      " [ 8  8 15]]\n",
      "\n",
      "Result for subtraction: \n",
      "[[ 0 -1 -2]\n",
      " [-1  0  1]\n",
      " [-2  4  3]]\n"
     ]
    }
   ],
   "source": [
    "import numpy\n",
    "a=[[1,4,7],[2,5,8],[3,6,9]]\n",
    "b=[[1,5,9],[3,5,7],[5,2,6]]\n",
    "print('Result for addition: ')\n",
    "print(numpy.add(a,b))\n",
    "print(\"\\nResult for subtraction: \")\n",
    "print(numpy.subtract(a,b))"
   ]
  },
  {
   "cell_type": "code",
   "execution_count": 8,
   "id": "b27c82e5",
   "metadata": {},
   "outputs": [
    {
     "name": "stdout",
     "output_type": "stream",
     "text": [
      "GCD of 36 and 60 is 12\n"
     ]
    }
   ],
   "source": [
    "num1=36\n",
    "num2=60\n",
    "gcd=1\n",
    "for i in range(1,min(num1,num2)):\n",
    "    if num1%i==0 and num2%i==0:\n",
    "        gcd=i\n",
    "print('GCD of',num1,'and',num2,'is',gcd)"
   ]
  },
  {
   "cell_type": "code",
   "execution_count": 10,
   "id": "188a7e4f",
   "metadata": {},
   "outputs": [
    {
     "name": "stdout",
     "output_type": "stream",
     "text": [
      "Result Matrix is:\n",
      "[16, 23]\n",
      "[22, 32]\n"
     ]
    }
   ],
   "source": [
    "matrix1=[[2,3],[3,4]]\n",
    "matrix2=[[2,4],[4,5]]\n",
    "result=[[0,0],[0,0]]\n",
    "for i in range(len(matrix1)):\n",
    "    for j in range(len(matrix2[0])):\n",
    "        for k in range(len(matrix2)):\n",
    "            result[i][j]+=matrix1[i][k]*matrix2[k][j]\n",
    "print('Result Matrix is:')\n",
    "for row in result:\n",
    "    print(row)"
   ]
  },
  {
   "cell_type": "code",
   "execution_count": 15,
   "id": "9cc0b7a5",
   "metadata": {},
   "outputs": [
    {
     "ename": "AttributeError",
     "evalue": "'Menu' object has no attribute 'add_separatorrator'",
     "output_type": "error",
     "traceback": [
      "\u001b[1;31m---------------------------------------------------------------------------\u001b[0m",
      "\u001b[1;31mAttributeError\u001b[0m                            Traceback (most recent call last)",
      "Cell \u001b[1;32mIn[15], line 92\u001b[0m\n\u001b[0;32m     89\u001b[0m         \u001b[38;5;28mself\u001b[39m\u001b[38;5;241m.\u001b[39m_has_winner\u001b[38;5;241m=\u001b[39m\u001b[38;5;28;01mFalse\u001b[39;00m\n\u001b[0;32m     90\u001b[0m         \u001b[38;5;28mself\u001b[39m\u001b[38;5;241m.\u001b[39mwinner_combo\u001b[38;5;241m=\u001b[39m[]\n\u001b[1;32m---> 92\u001b[0m \u001b[38;5;28;01mclass\u001b[39;00m \u001b[38;5;21;01mTicTacToeBoard\u001b[39;00m(tk\u001b[38;5;241m.\u001b[39mTk):\n\u001b[0;32m     93\u001b[0m     \u001b[38;5;28;01mdef\u001b[39;00m \u001b[38;5;21m__init__\u001b[39m(\u001b[38;5;28mself\u001b[39m,game):\n\u001b[0;32m     94\u001b[0m         \u001b[38;5;28msuper\u001b[39m()\u001b[38;5;241m.\u001b[39m\u001b[38;5;21m__init__\u001b[39m()\n",
      "Cell \u001b[1;32mIn[15], line 190\u001b[0m, in \u001b[0;36mTicTacToeBoard\u001b[1;34m()\u001b[0m\n\u001b[0;32m    187\u001b[0m     board\u001b[38;5;241m.\u001b[39mmainloop()\n\u001b[0;32m    189\u001b[0m \u001b[38;5;28;01mif\u001b[39;00m \u001b[38;5;18m__name__\u001b[39m\u001b[38;5;241m==\u001b[39m\u001b[38;5;124m'\u001b[39m\u001b[38;5;124m__main__\u001b[39m\u001b[38;5;124m'\u001b[39m:\n\u001b[1;32m--> 190\u001b[0m     main()\n",
      "Cell \u001b[1;32mIn[15], line 186\u001b[0m, in \u001b[0;36mTicTacToeBoard.main\u001b[1;34m()\u001b[0m\n\u001b[0;32m    184\u001b[0m \u001b[38;5;250m\u001b[39m\u001b[38;5;124;03m'''Create the games board and run its main loop.'''\u001b[39;00m\n\u001b[0;32m    185\u001b[0m game\u001b[38;5;241m=\u001b[39mTicTacToeGame()\n\u001b[1;32m--> 186\u001b[0m board\u001b[38;5;241m=\u001b[39mTicTacToeBoard(game)\n\u001b[0;32m    187\u001b[0m board\u001b[38;5;241m.\u001b[39mmainloop()\n",
      "Cell \u001b[1;32mIn[12], line 98\u001b[0m, in \u001b[0;36mTicTacToeBoard.__init__\u001b[1;34m(self, game)\u001b[0m\n\u001b[0;32m     96\u001b[0m \u001b[38;5;28mself\u001b[39m\u001b[38;5;241m.\u001b[39m_cells\u001b[38;5;241m=\u001b[39m{}\n\u001b[0;32m     97\u001b[0m \u001b[38;5;28mself\u001b[39m\u001b[38;5;241m.\u001b[39m_game\u001b[38;5;241m=\u001b[39mgame\n\u001b[1;32m---> 98\u001b[0m \u001b[38;5;28mself\u001b[39m\u001b[38;5;241m.\u001b[39m_create_menu()\n\u001b[0;32m     99\u001b[0m \u001b[38;5;28mself\u001b[39m\u001b[38;5;241m.\u001b[39m_create_board_display()\n\u001b[0;32m    100\u001b[0m \u001b[38;5;28mself\u001b[39m\u001b[38;5;241m.\u001b[39m_create_board_grid()\n",
      "Cell \u001b[1;32mIn[12], line 107\u001b[0m, in \u001b[0;36mTicTacToeBoard._create_menu\u001b[1;34m(self)\u001b[0m\n\u001b[0;32m    105\u001b[0m file_menu\u001b[38;5;241m=\u001b[39mtk\u001b[38;5;241m.\u001b[39mMenu(master\u001b[38;5;241m=\u001b[39mmenu_bar)\n\u001b[0;32m    106\u001b[0m file_menu\u001b[38;5;241m.\u001b[39madd_command(label\u001b[38;5;241m=\u001b[39m\u001b[38;5;124m'\u001b[39m\u001b[38;5;124mPlay Again\u001b[39m\u001b[38;5;124m'\u001b[39m, command\u001b[38;5;241m=\u001b[39m\u001b[38;5;28mself\u001b[39m\u001b[38;5;241m.\u001b[39mreset_board)\n\u001b[1;32m--> 107\u001b[0m file_menu\u001b[38;5;241m.\u001b[39madd_separatorrator()\n\u001b[0;32m    108\u001b[0m file_menu\u001b[38;5;241m.\u001b[39madd_command(label\u001b[38;5;241m=\u001b[39m\u001b[38;5;124m'\u001b[39m\u001b[38;5;124mExit\u001b[39m\u001b[38;5;124m'\u001b[39m, command\u001b[38;5;241m=\u001b[39mquit)\n\u001b[0;32m    109\u001b[0m menu_bar\u001b[38;5;241m.\u001b[39madd_cascade(label\u001b[38;5;241m=\u001b[39m\u001b[38;5;124m'\u001b[39m\u001b[38;5;124mFile\u001b[39m\u001b[38;5;124m'\u001b[39m, menu\u001b[38;5;241m=\u001b[39mfile_menu)\n",
      "\u001b[1;31mAttributeError\u001b[0m: 'Menu' object has no attribute 'add_separatorrator'"
     ]
    }
   ],
   "source": [
    "import tkinter as tk\n",
    "from itertools import cycle\n",
    "from tkinter import font\n",
    "from typing import NamedTuple\n",
    "\n",
    "class Player(NamedTuple):\n",
    "    label: str\n",
    "    color: str\n",
    "\n",
    "class Move(NamedTuple):\n",
    "    row: int\n",
    "    col: int\n",
    "    label:str=''\n",
    "\n",
    "Board_Size=3\n",
    "Default_Players=(\n",
    "    Player(label=\"X\",color='blue'),\n",
    "    Player(label='O',color='red'),\n",
    ")\n",
    "\n",
    "class TicTacToeGame:\n",
    "    def __init__(self, players=Default_Players, board_size=Board_Size):\n",
    "        self._players=cycle(players)\n",
    "        self.board_size=board_size\n",
    "        self.current_player=next(self._players)\n",
    "        self.winner_combo=[]\n",
    "        self._current_moves=[]\n",
    "        self._has_winner=False\n",
    "        self._winning_combos=[]\n",
    "        self._setup_board()\n",
    "    \n",
    "    def _setup_board(self):\n",
    "        self._current_moves=[\n",
    "            [Move(row,col) for col in range(self.board_size)]\n",
    "            for row in range(self.board_size)\n",
    "        ]\n",
    "        self._winning_combos=self._get_winning_combos()\n",
    "    \n",
    "    def _get_winning_combos(self):\n",
    "        rows=[\n",
    "            [(move.row, move.col) for move in row]\n",
    "            for row in self._current_moves\n",
    "        ]\n",
    "        columns=[list(col) for col in zip(*rows)]\n",
    "        first_diagonal=[row[i] for i, row in enumerate(rows)]\n",
    "        second_diagonal=[col[j] for j, col in enumerate(reversed(columns))]\n",
    "        return rows + columns + [first_diagonal, second_diagonal]\n",
    "    \n",
    "    def toggle_player(self):\n",
    "        '''Return a toggled player.'''\n",
    "        self.current_player=next(self._players)\n",
    "    \n",
    "    def is_valid_move(self,move):\n",
    "        '''Return True if move is valid, and False otherwise'''\n",
    "        row, col=move.row, move.col\n",
    "        move_was_not_played=self._current_moves[row][col].label==\"\"\n",
    "        no_winner=not self._has_winner\n",
    "        return no_winner and move_was_not_played\n",
    "    \n",
    "    def process_move(self, move):\n",
    "        '''Process the current move and check if it is a win.'''\n",
    "        row, col=move.row, move.col\n",
    "        self._current_moves[row][col]=move\n",
    "        for combo in self._winning_combos:\n",
    "            results=set(self._current_moves[n][m].label for n,m in combo)\n",
    "            is_win=(len(results)==1) and (''not in results)\n",
    "            if is_win:\n",
    "                self._has_winner=True\n",
    "                self.winner_combo=combo\n",
    "                break\n",
    "        \n",
    "    def has_winner(self):\n",
    "        '''Return True if the game has a winner, and False otherwise'''\n",
    "        return self._has_winner\n",
    "    \n",
    "    def is_tied(self):\n",
    "        '''Return True if the game is tied, and False otherwise'''\n",
    "        no_winner=not self._has_winner\n",
    "        played_moves=(\n",
    "            move.label for row in self._current_moves for move in row\n",
    "        )\n",
    "        return no_winner and all(played_moves)\n",
    "    \n",
    "    def reset_game(self):\n",
    "        '''Reset the game state to play again'''\n",
    "        for row, row_content in enumerate(self._current_moves):\n",
    "            for col, _ in enumerate(row_content):\n",
    "                row_content[col]=Move(row,col)\n",
    "        self._has_winner=False\n",
    "        self.winner_combo=[]\n",
    "\n",
    "class TicTacToeBoard(tk.Tk):\n",
    "    def __init__(self,game):\n",
    "        super().__init__()\n",
    "        self.title('Tic-Tac-Toe Game')\n",
    "        self._cells={}\n",
    "        self._game=game\n",
    "        self._create_menu()\n",
    "        self._create_board_display()\n",
    "        self._create_board_grid()\n",
    "    \n",
    "    def _create_menu(self):\n",
    "        menu_bar=tk.Menu(master=self)\n",
    "        self.config(menu=menu_bar)\n",
    "        file_menu=tk.Menu(master=menu_bar)\n",
    "        file_menu.add_command(label='Play Again', command=self.reset_board)\n",
    "        file_menu.add_separator()\n",
    "        file_menu.add_command(label='Exit', command=quit)\n",
    "        menu_bar.add_cascade(label='File', menu=file_menu)\n",
    "    \n",
    "    def _create_board_display(self):\n",
    "        display_frame=tk.Frame(master=self)\n",
    "        display_frame.pack(fill=tk.X)\n",
    "        self.display=tk.Label(\n",
    "            master=display_frame,\n",
    "            text='Ready?',\n",
    "            font=font.Font(size=28, weight='bold')\n",
    "        )\n",
    "        self.display.pack()\n",
    "    \n",
    "    def _create_board_grid(self):\n",
    "        grid_frame=tk.Frame(master=self)\n",
    "        grid_frame.pack()\n",
    "        for row in range(self._game.board_size):\n",
    "            self.rowconfigure(row, weight=1, minsize=50)\n",
    "            self.columnconfigure(row, weight=1, minsize=75)\n",
    "            for col in range(self._game.board_size):\n",
    "                button=tk.button(\n",
    "                    master=grid_frame,\n",
    "                    text='',\n",
    "                    font=font.Font(size=36, weight='bold'),\n",
    "                    fg='black',\n",
    "                    width=3,\n",
    "                    height=2,\n",
    "                    highlightbackground='lightblue',\n",
    "                )\n",
    "                self._cells[button]=(row,col)\n",
    "                button.bind('<ButtonPress-1>',self.play)\n",
    "                button.grid(row=row, column=col, padx=5, pady=5, sticky='nsew')\n",
    "    \n",
    "    def play(self, event):\n",
    "        '''Handle a players move.'''\n",
    "        clicked_btn=event.widget\n",
    "        row, col=self._cells[clicked_btn]\n",
    "        move=Move(row, col, self._game.current_player.label)\n",
    "        if self._game.is_valid_move(move):\n",
    "            self._update_button(clicked_btn)\n",
    "            self._game.process_move(move)\n",
    "            if self._game.is_tied():\n",
    "                self._update_displaying(msg='Tied game!', color='red')\n",
    "            elif self._game.has_winner():\n",
    "                self._highlight_cells()\n",
    "                msg=f'Player \"{self._game.current_player.label}\" won!'\n",
    "                color=self._game.current_player.color\n",
    "                self._update_displaying(msg, color)\n",
    "            else:\n",
    "                self._game.toggle_player()\n",
    "                msg=f\"{self._game.current_player,label}'s turn\"\n",
    "                self._update_displaying(msg)\n",
    "    \n",
    "    def _update_button(self, clicked_btn):\n",
    "        clicked_btn.config(text=self._game.current_player.label)\n",
    "        clicked_btn.config(fg=self._game.current_player.color)\n",
    "    \n",
    "    def _update_display(self, msg, color='black'):\n",
    "        self.display['text']=msg\n",
    "        self.display['fg']=color\n",
    "    \n",
    "    def _highlight_cells(self):\n",
    "        for button, coordinates in self._cells.items():\n",
    "            if coordinates in self._game.winner_combo:\n",
    "                button.config(highlightbackground='red')\n",
    "    \n",
    "    def reset_board(self):\n",
    "        '''Reset the games board to play again.'''\n",
    "        self._game.reset_game()\n",
    "        self._update_display(msg='Ready?')\n",
    "        for button in self._cells.keys():\n",
    "            button.config(highlightbackground='lightblue')\n",
    "            button.config(text=\"\")\n",
    "            button.config(fg='black')\n",
    "    \n",
    "    def main():\n",
    "        '''Create the games board and run its main loop.'''\n",
    "        game=TicTacToeGame()\n",
    "        board=TicTacToeBoard(game)\n",
    "        board.mainloop()\n",
    "    \n",
    "    if __name__=='__main__':\n",
    "        main()"
   ]
  },
  {
   "cell_type": "code",
   "execution_count": 17,
   "id": "685f8290",
   "metadata": {},
   "outputs": [],
   "source": [
    "\"\"\"A tic-tac-toe game built with Python and Tkinter.\"\"\"\n",
    "\n",
    "import tkinter as tk\n",
    "from itertools import cycle\n",
    "from tkinter import font\n",
    "from typing import NamedTuple\n",
    "\n",
    "class Player(NamedTuple):\n",
    "    label: str\n",
    "    color: str\n",
    "\n",
    "class Move(NamedTuple):\n",
    "    row: int\n",
    "    col: int\n",
    "    label: str = \"\"\n",
    "\n",
    "BOARD_SIZE = 3\n",
    "DEFAULT_PLAYERS = (\n",
    "    Player(label=\"X\", color=\"blue\"),\n",
    "    Player(label=\"O\", color=\"green\"),\n",
    ")\n",
    "\n",
    "class TicTacToeGame:\n",
    "    def __init__(self, players=DEFAULT_PLAYERS, board_size=BOARD_SIZE):\n",
    "        self._players = cycle(players)\n",
    "        self.board_size = board_size\n",
    "        self.current_player = next(self._players)\n",
    "        self.winner_combo = []\n",
    "        self._current_moves = []\n",
    "        self._has_winner = False\n",
    "        self._winning_combos = []\n",
    "        self._setup_board()\n",
    "\n",
    "    def _setup_board(self):\n",
    "        self._current_moves = [\n",
    "            [Move(row, col) for col in range(self.board_size)]\n",
    "            for row in range(self.board_size)\n",
    "        ]\n",
    "        self._winning_combos = self._get_winning_combos()\n",
    "\n",
    "    def _get_winning_combos(self):\n",
    "        rows = [\n",
    "            [(move.row, move.col) for move in row]\n",
    "            for row in self._current_moves\n",
    "        ]\n",
    "        columns = [list(col) for col in zip(*rows)]\n",
    "        first_diagonal = [row[i] for i, row in enumerate(rows)]\n",
    "        second_diagonal = [col[j] for j, col in enumerate(reversed(columns))]\n",
    "        return rows + columns + [first_diagonal, second_diagonal]\n",
    "\n",
    "    def toggle_player(self):\n",
    "        \"\"\"Return a toggled player.\"\"\"\n",
    "        self.current_player = next(self._players)\n",
    "\n",
    "    def is_valid_move(self, move):\n",
    "        \"\"\"Return True if move is valid, and False otherwise.\"\"\"\n",
    "        row, col = move.row, move.col\n",
    "        move_was_not_played = self._current_moves[row][col].label == \"\"\n",
    "        no_winner = not self._has_winner\n",
    "        return no_winner and move_was_not_played\n",
    "\n",
    "    def process_move(self, move):\n",
    "        \"\"\"Process the current move and check if it's a win.\"\"\"\n",
    "        row, col = move.row, move.col\n",
    "        self._current_moves[row][col] = move\n",
    "        for combo in self._winning_combos:\n",
    "            results = set(self._current_moves[n][m].label for n, m in combo)\n",
    "            is_win = (len(results) == 1) and (\"\" not in results)\n",
    "            if is_win:\n",
    "                self._has_winner = True\n",
    "                self.winner_combo = combo\n",
    "                break\n",
    "\n",
    "    def has_winner(self):\n",
    "        \"\"\"Return True if the game has a winner, and False otherwise.\"\"\"\n",
    "        return self._has_winner\n",
    "\n",
    "    def is_tied(self):\n",
    "        \"\"\"Return True if the game is tied, and False otherwise.\"\"\"\n",
    "        no_winner = not self._has_winner\n",
    "        played_moves = (\n",
    "            move.label for row in self._current_moves for move in row\n",
    "        )\n",
    "        return no_winner and all(played_moves)\n",
    "\n",
    "    def reset_game(self):\n",
    "        \"\"\"Reset the game state to play again.\"\"\"\n",
    "        for row, row_content in enumerate(self._current_moves):\n",
    "            for col, _ in enumerate(row_content):\n",
    "                row_content[col] = Move(row, col)\n",
    "        self._has_winner = False\n",
    "        self.winner_combo = []\n",
    "\n",
    "class TicTacToeBoard(tk.Tk):\n",
    "    def __init__(self, game):\n",
    "        super().__init__()\n",
    "        self.title(\"Tic-Tac-Toe Game\")\n",
    "        self._cells = {}\n",
    "        self._game = game\n",
    "        self._create_menu()\n",
    "        self._create_board_display()\n",
    "        self._create_board_grid()\n",
    "\n",
    "    def _create_menu(self):\n",
    "        menu_bar = tk.Menu(master=self)\n",
    "        self.config(menu=menu_bar)\n",
    "        file_menu = tk.Menu(master=menu_bar)\n",
    "        file_menu.add_command(label=\"Play Again\", command=self.reset_board)\n",
    "        file_menu.add_separator()\n",
    "        file_menu.add_command(label=\"Exit\", command=quit)\n",
    "        menu_bar.add_cascade(label=\"File\", menu=file_menu)\n",
    "\n",
    "    def _create_board_display(self):\n",
    "        display_frame = tk.Frame(master=self)\n",
    "        display_frame.pack(fill=tk.X)\n",
    "        self.display = tk.Label(\n",
    "            master=display_frame,\n",
    "            text=\"Ready?\",\n",
    "            font=font.Font(size=28, weight=\"bold\"),\n",
    "        )\n",
    "        self.display.pack()\n",
    "\n",
    "    def _create_board_grid(self):\n",
    "        grid_frame = tk.Frame(master=self)\n",
    "        grid_frame.pack()\n",
    "        for row in range(self._game.board_size):\n",
    "            self.rowconfigure(row, weight=1, minsize=50)\n",
    "            self.columnconfigure(row, weight=1, minsize=75)\n",
    "            for col in range(self._game.board_size):\n",
    "                button = tk.Button(\n",
    "                    master=grid_frame,\n",
    "                    text=\"\",\n",
    "                    font=font.Font(size=36, weight=\"bold\"),\n",
    "                    fg=\"black\",\n",
    "                    width=3,\n",
    "                    height=2,\n",
    "                    highlightbackground=\"lightblue\",\n",
    "                )\n",
    "                self._cells[button] = (row, col)\n",
    "                button.bind(\"<ButtonPress-1>\", self.play)\n",
    "                button.grid(row=row, column=col, padx=5, pady=5, sticky=\"nsew\")\n",
    "\n",
    "    def play(self, event):\n",
    "        \"\"\"Handle a player's move.\"\"\"\n",
    "        clicked_btn = event.widget\n",
    "        row, col = self._cells[clicked_btn]\n",
    "        move = Move(row, col, self._game.current_player.label)\n",
    "        if self._game.is_valid_move(move):\n",
    "            self._update_button(clicked_btn)\n",
    "            self._game.process_move(move)\n",
    "            if self._game.is_tied():\n",
    "                self._update_display(msg=\"Tied game!\", color=\"red\")\n",
    "            elif self._game.has_winner():\n",
    "                self._highlight_cells()\n",
    "                msg = f'Player \"{self._game.current_player.label}\" won!'\n",
    "                color = self._game.current_player.color\n",
    "                self._update_display(msg, color)\n",
    "            else:\n",
    "                self._game.toggle_player()\n",
    "                msg = f\"{self._game.current_player.label}'s turn\"\n",
    "                self._update_display(msg)\n",
    "\n",
    "    def _update_button(self, clicked_btn):\n",
    "        clicked_btn.config(text=self._game.current_player.label)\n",
    "        clicked_btn.config(fg=self._game.current_player.color)\n",
    "\n",
    "    def _update_display(self, msg, color=\"black\"):\n",
    "        self.display[\"text\"] = msg\n",
    "        self.display[\"fg\"] = color\n",
    "\n",
    "    def _highlight_cells(self):\n",
    "        for button, coordinates in self._cells.items():\n",
    "            if coordinates in self._game.winner_combo:\n",
    "                button.config(highlightbackground=\"red\")\n",
    "\n",
    "    def reset_board(self):\n",
    "        \"\"\"Reset the game's board to play again.\"\"\"\n",
    "        self._game.reset_game()\n",
    "        self._update_display(msg=\"Ready?\")\n",
    "        for button in self._cells.keys():\n",
    "            button.config(highlightbackground=\"lightblue\")\n",
    "            button.config(text=\"\")\n",
    "            button.config(fg=\"black\")\n",
    "\n",
    "def main():\n",
    "    \"\"\"Create the game's board and run its main loop.\"\"\"\n",
    "    game = TicTacToeGame()\n",
    "    board = TicTacToeBoard(game)\n",
    "    board.mainloop()\n",
    "\n",
    "if __name__ == \"__main__\":\n",
    "    main()\n"
   ]
  },
  {
   "cell_type": "code",
   "execution_count": null,
   "id": "4b315c7c",
   "metadata": {},
   "outputs": [],
   "source": []
  }
 ],
 "metadata": {
  "kernelspec": {
   "display_name": "Python 3 (ipykernel)",
   "language": "python",
   "name": "python3"
  },
  "language_info": {
   "codemirror_mode": {
    "name": "ipython",
    "version": 3
   },
   "file_extension": ".py",
   "mimetype": "text/x-python",
   "name": "python",
   "nbconvert_exporter": "python",
   "pygments_lexer": "ipython3",
   "version": "3.11.4"
  }
 },
 "nbformat": 4,
 "nbformat_minor": 5
}
